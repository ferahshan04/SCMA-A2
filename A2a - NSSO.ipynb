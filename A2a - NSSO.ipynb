{
 "cells": [
  {
   "cell_type": "code",
   "execution_count": 1,
   "id": "6e17518e",
   "metadata": {},
   "outputs": [],
   "source": [
    "import pandas as pd\n",
    "import numpy as np\n",
    "from scipy import stats\n",
    "import matplotlib.pyplot as plt\n",
    "import seaborn as sns"
   ]
  },
  {
   "cell_type": "code",
   "execution_count": 2,
   "id": "58da353b",
   "metadata": {},
   "outputs": [],
   "source": [
    "data = pd.read_csv(\"C:\\\\Users\\\\Ferah Shan\\\\Downloads\\\\NSSO68.csv\", low_memory=False)"
   ]
  },
  {
   "cell_type": "code",
   "execution_count": 3,
   "id": "10845101",
   "metadata": {},
   "outputs": [],
   "source": [
    "kerala_data = data[data['state_1'] == 'KE']"
   ]
  },
  {
   "cell_type": "code",
   "execution_count": 9,
   "id": "acf8cef5",
   "metadata": {},
   "outputs": [
    {
     "name": "stdout",
     "output_type": "stream",
     "text": [
      "Missing values in each column:\n",
      "soyabean_v       3\n",
      "soyabean_q       3\n",
      "pulsestt_v       0\n",
      "pulsep_v         0\n",
      "besan_v          0\n",
      "                ..\n",
      "ediblest_q       0\n",
      "edibletotal_q    0\n",
      "edioilothr_q     0\n",
      "cocooil_q        0\n",
      "fv_tot           0\n",
      "Length: 384, dtype: int64\n"
     ]
    }
   ],
   "source": [
    "missing_values = kerala_data.isnull().sum().sort_values(ascending = False)\n",
    "print(\"Missing values in each column:\")\n",
    "print(missing_values)"
   ]
  },
  {
   "cell_type": "code",
   "execution_count": 10,
   "id": "8471ac33",
   "metadata": {},
   "outputs": [],
   "source": [
    "kerala_data = kerala_data.apply(lambda x: x.fillna(x.mean()) if x.dtype.kind in 'biufc' else x)"
   ]
  },
  {
   "cell_type": "code",
   "execution_count": 11,
   "id": "f197b73f",
   "metadata": {},
   "outputs": [
    {
     "name": "stdout",
     "output_type": "stream",
     "text": [
      "Missing values after replacement for Kerala:\n",
      "soyabean_v       3\n",
      "soyabean_q       3\n",
      "pulsestt_v       0\n",
      "pulsep_v         0\n",
      "besan_v          0\n",
      "                ..\n",
      "ediblest_q       0\n",
      "edibletotal_q    0\n",
      "edioilothr_q     0\n",
      "cocooil_q        0\n",
      "fv_tot           0\n",
      "Length: 384, dtype: int64\n"
     ]
    }
   ],
   "source": [
    "missing_values_after = kerala_data.isna().sum().sort_values(ascending = False)\n",
    "print(\"Missing values after replacement for Kerala:\")\n",
    "print(missing_values_after)"
   ]
  },
  {
   "cell_type": "code",
   "execution_count": 8,
   "id": "5389159a",
   "metadata": {},
   "outputs": [
    {
     "name": "stdout",
     "output_type": "stream",
     "text": [
      "slno has 0 Outliers in Kerala\n",
      "Round_Centre has 0 Outliers in Kerala\n",
      "FSU_number has 0 Outliers in Kerala\n",
      "Round has 0 Outliers in Kerala\n",
      "Schedule_Number has 0 Outliers in Kerala\n",
      "Sample has 0 Outliers in Kerala\n",
      "Sector has 0 Outliers in Kerala\n",
      "state has 0 Outliers in Kerala\n",
      "State_Region has 0 Outliers in Kerala\n",
      "District has 0 Outliers in Kerala\n",
      "Stratum_Number has 0 Outliers in Kerala\n",
      "Sub_Stratum has 0 Outliers in Kerala\n",
      "Schedule_type has 0 Outliers in Kerala\n",
      "Sub_Round has 0 Outliers in Kerala\n",
      "Sub_Sample has 0 Outliers in Kerala\n",
      "FOD_Sub_Region has 5 Outliers in Kerala\n",
      "Hamlet_Group_Sub_Block has 0 Outliers in Kerala\n",
      "t has 356 Outliers in Kerala\n",
      "X_Stage_Stratum has 0 Outliers in Kerala\n",
      "HHS_No has 257 Outliers in Kerala\n",
      "Level has 0 Outliers in Kerala\n",
      "Filler has 0 Outliers in Kerala\n",
      "hhdsz has 132 Outliers in Kerala\n",
      "NIC_2008 has 383 Outliers in Kerala\n",
      "NCO_2004 has 339 Outliers in Kerala\n",
      "HH_type has 0 Outliers in Kerala\n",
      "Religion has 1 Outliers in Kerala\n",
      "Social_Group has 0 Outliers in Kerala\n",
      "Whether_owns_any_land has 263 Outliers in Kerala\n",
      "Type_of_land_owned has 0 Outliers in Kerala\n",
      "Land_Owned has 363 Outliers in Kerala\n",
      "Land_Leased_in has 132 Outliers in Kerala\n",
      "Otherwise_possessed has 31 Outliers in Kerala\n",
      "Land_Leased_out has 17 Outliers in Kerala\n",
      "Land_Total_possessed has 193 Outliers in Kerala\n",
      "During_July_June_Cultivated has 0 Outliers in Kerala\n",
      "During_July_June_Irrigated has 317 Outliers in Kerala\n",
      "NSS has 5 Outliers in Kerala\n",
      "NSC has 6 Outliers in Kerala\n",
      "MLT has 70 Outliers in Kerala\n",
      "land_tt has 79 Outliers in Kerala\n",
      "Cooking_code has 4 Outliers in Kerala\n",
      "Lighting_code has 63 Outliers in Kerala\n",
      "Dwelling_unit_code has 15 Outliers in Kerala\n",
      "Regular_salary_earner has 283 Outliers in Kerala\n",
      "Perform_Ceremony has 38 Outliers in Kerala\n",
      "Meals_seved_to_non_hhld_members has 71 Outliers in Kerala\n",
      "Possess_ration_card has 45 Outliers in Kerala\n",
      "Type_of_ration_card has 0 Outliers in Kerala\n",
      "MPCE_URP has 73 Outliers in Kerala\n",
      "MPCE_MRP has 43 Outliers in Kerala\n",
      "Person_Srl_No has 0 Outliers in Kerala\n",
      "Relation has 0 Outliers in Kerala\n",
      "Sex has 0 Outliers in Kerala\n",
      "Age has 0 Outliers in Kerala\n",
      "Marital_Status has 221 Outliers in Kerala\n",
      "Education has 87 Outliers in Kerala\n",
      "Days_Stayed_away has 131 Outliers in Kerala\n",
      "No_of_Meals_per_day has 1 Outliers in Kerala\n",
      "Meals_School has 0 Outliers in Kerala\n",
      "Meals_Employer has 22 Outliers in Kerala\n",
      "Meals_Others has 6 Outliers in Kerala\n",
      "Meals_Payment has 94 Outliers in Kerala\n",
      "Meals_At_Home has 46 Outliers in Kerala\n",
      "Item_Code has 25 Outliers in Kerala\n",
      "Source_Code has 0 Outliers in Kerala\n",
      "ricepds_q has 5 Outliers in Kerala\n",
      "riceos_q has 2 Outliers in Kerala\n",
      "ricetotal_q has 2 Outliers in Kerala\n",
      "chira_q has 20 Outliers in Kerala\n",
      "khoi_q has 1 Outliers in Kerala\n",
      "muri_q has 0 Outliers in Kerala\n",
      "ricepro_q has 42 Outliers in Kerala\n",
      "riceGT_q has 0 Outliers in Kerala\n",
      "Wheatpds_q has 7 Outliers in Kerala\n",
      "wheatos_q has 9 Outliers in Kerala\n",
      "wheattotal_q has 2 Outliers in Kerala\n",
      "maida_q has 33 Outliers in Kerala\n",
      "suji_q has 11 Outliers in Kerala\n",
      "sewai_q has 7 Outliers in Kerala\n",
      "bread_q has 13 Outliers in Kerala\n",
      "wheatp_q has 1 Outliers in Kerala\n",
      "wheatGT_q has 4 Outliers in Kerala\n",
      "jowarp_q has 0 Outliers in Kerala\n",
      "bajrap_q has 0 Outliers in Kerala\n",
      "maizep_q has 0 Outliers in Kerala\n",
      "barleyp_q has 0 Outliers in Kerala\n",
      "milletp_q has 0 Outliers in Kerala\n",
      "ragip_q has 2 Outliers in Kerala\n",
      "cerealot_q has 1 Outliers in Kerala\n",
      "cerealtot_q has 0 Outliers in Kerala\n",
      "cerealsub_q has 4 Outliers in Kerala\n",
      "cerealstt_q has 0 Outliers in Kerala\n",
      "arhar_q has 1 Outliers in Kerala\n",
      "gramdal_q has 0 Outliers in Kerala\n",
      "gramwholep_q has 2 Outliers in Kerala\n",
      "gramGT_q has 1 Outliers in Kerala\n",
      "moong_q has 0 Outliers in Kerala\n",
      "masur_q has 4 Outliers in Kerala\n",
      "urd_q has 0 Outliers in Kerala\n",
      "peasdal_q has 11 Outliers in Kerala\n",
      "khesari_q has 0 Outliers in Kerala\n",
      "otpulse_q has 14 Outliers in Kerala\n",
      "gramp_q has 5 Outliers in Kerala\n",
      "besan_q has 0 Outliers in Kerala\n",
      "pulsep_q has 4 Outliers in Kerala\n",
      "pulsestot_q has 0 Outliers in Kerala\n",
      "pulsestt_q has 0 Outliers in Kerala\n",
      "soyabean_q has 0 Outliers in Kerala\n",
      "milk_q has 1 Outliers in Kerala\n",
      "babyfood_q has 1 Outliers in Kerala\n",
      "milkcond_q has 1 Outliers in Kerala\n",
      "curd_q has 2 Outliers in Kerala\n",
      "ghee_q has 0 Outliers in Kerala\n",
      "butter_q has 0 Outliers in Kerala\n",
      "icecream_q has 0 Outliers in Kerala\n",
      "otmilkp_q has 0 Outliers in Kerala\n",
      "Milktotal_q has 0 Outliers in Kerala\n",
      "milkprott_q has 0 Outliers in Kerala\n",
      "vanas_q has 0 Outliers in Kerala\n",
      "musoil_q has 0 Outliers in Kerala\n",
      "gnoil_q has 0 Outliers in Kerala\n",
      "cocooil_q has 0 Outliers in Kerala\n",
      "edioilothr_q has 2 Outliers in Kerala\n",
      "edibletotal_q has 0 Outliers in Kerala\n",
      "ediblest_q has 2 Outliers in Kerala\n",
      "eggsno_q has 1 Outliers in Kerala\n",
      "fishprawn_q has 1 Outliers in Kerala\n",
      "goatmeat_q has 0 Outliers in Kerala\n",
      "beef_q has 2 Outliers in Kerala\n",
      "pork_q has 0 Outliers in Kerala\n",
      "chicken_q has 1 Outliers in Kerala\n",
      "othrbirds_q has 0 Outliers in Kerala\n",
      "nonvegtotal_q has 0 Outliers in Kerala\n",
      "emftt_q has 0 Outliers in Kerala\n",
      "potato_q has 1 Outliers in Kerala\n",
      "onion_q has 1 Outliers in Kerala\n",
      "tamato_q has 0 Outliers in Kerala\n",
      "brinjal_q has 0 Outliers in Kerala\n",
      "radish_q has 0 Outliers in Kerala\n",
      "carrot_q has 1 Outliers in Kerala\n",
      "palak_q has 2 Outliers in Kerala\n",
      "chillig_q has 3 Outliers in Kerala\n",
      "bhindi_q has 0 Outliers in Kerala\n",
      "parwal_q has 1 Outliers in Kerala\n",
      "cauli_q has 1 Outliers in Kerala\n",
      "cabbage_q has 2 Outliers in Kerala\n",
      "pumpkin_q has 1 Outliers in Kerala\n",
      "peas_q has 0 Outliers in Kerala\n",
      "fbeans_q has 0 Outliers in Kerala\n",
      "lemonno_q has 0 Outliers in Kerala\n",
      "otveg_q has 0 Outliers in Kerala\n",
      "vegtt_q has 1 Outliers in Kerala\n",
      "bananano_q has 1 Outliers in Kerala\n",
      "jackfruit_q has 0 Outliers in Kerala\n",
      "watermel_q has 1 Outliers in Kerala\n",
      "pineaplno_q has 0 Outliers in Kerala\n",
      "cocono_q has 1 Outliers in Kerala\n",
      "cocogno_q has 0 Outliers in Kerala\n",
      "guava_q has 0 Outliers in Kerala\n",
      "sighara_q has 0 Outliers in Kerala\n",
      "orangeno_q has 0 Outliers in Kerala\n",
      "papayar_q has 0 Outliers in Kerala\n",
      "mango_q has 0 Outliers in Kerala\n",
      "kharbooz_q has 0 Outliers in Kerala\n",
      "pears_q has 0 Outliers in Kerala\n",
      "berries_q has 0 Outliers in Kerala\n",
      "leechi_q has 0 Outliers in Kerala\n",
      "apple_q has 0 Outliers in Kerala\n",
      "grapes_q has 0 Outliers in Kerala\n",
      "otfruits_q has 0 Outliers in Kerala\n",
      "fruitstt_q has 0 Outliers in Kerala\n",
      "fruitt_total has 0 Outliers in Kerala\n",
      "cocodf_q has 0 Outliers in Kerala\n",
      "gnutdf_q has 0 Outliers in Kerala\n",
      "datesdf_q has 0 Outliers in Kerala\n",
      "cashewdf_q has 0 Outliers in Kerala\n",
      "walnutdf_q has 0 Outliers in Kerala\n",
      "otnutsdf_q has 0 Outliers in Kerala\n",
      "kishmish_q has 0 Outliers in Kerala\n",
      "otherdf_q has 0 Outliers in Kerala\n",
      "dryfruitstotal_q has 0 Outliers in Kerala\n",
      "dftt_q has 0 Outliers in Kerala\n",
      "sugarpds_q has 0 Outliers in Kerala\n",
      "sugaros_q has 0 Outliers in Kerala\n",
      "sugarst_q has 0 Outliers in Kerala\n",
      "gur_q has 0 Outliers in Kerala\n",
      "misri_q has 0 Outliers in Kerala\n",
      "honey_q has 0 Outliers in Kerala\n",
      "sugartotal_q has 0 Outliers in Kerala\n",
      "sugartt_q has 0 Outliers in Kerala\n",
      "salt_q has 0 Outliers in Kerala\n",
      "ginger_q has 0 Outliers in Kerala\n",
      "garlic_q has 0 Outliers in Kerala\n",
      "jeera_q has 0 Outliers in Kerala\n",
      "dhania_q has 0 Outliers in Kerala\n",
      "turnmeric_q has 0 Outliers in Kerala\n",
      "blackpepper_q has 0 Outliers in Kerala\n",
      "drychilly_q has 0 Outliers in Kerala\n",
      "tamarind_q has 0 Outliers in Kerala\n",
      "currypowder_q has 0 Outliers in Kerala\n",
      "oilseeds_q has 0 Outliers in Kerala\n",
      "spicesothr_q has 0 Outliers in Kerala\n",
      "spicetot_q has 0 Outliers in Kerala\n",
      "spicestotal_q has 0 Outliers in Kerala\n",
      "teacupno_q has 0 Outliers in Kerala\n",
      "tealeaf_q has 0 Outliers in Kerala\n",
      "teatotal_q has 0 Outliers in Kerala\n",
      "cofeeno_q has 0 Outliers in Kerala\n",
      "coffeepwdr_q has 0 Outliers in Kerala\n",
      "cofeetotal_q has 0 Outliers in Kerala\n",
      "ice_q has 0 Outliers in Kerala\n",
      "coldbvrg_q has 0 Outliers in Kerala\n",
      "juice_q has 0 Outliers in Kerala\n",
      "othrbevrg_q has 0 Outliers in Kerala\n",
      "bevergest_q has 0 Outliers in Kerala\n",
      "Biscuits_q has 0 Outliers in Kerala\n",
      "preparedsweet_q has 0 Outliers in Kerala\n",
      "pickle_q has 0 Outliers in Kerala\n",
      "sauce_jam_q has 0 Outliers in Kerala\n",
      "Othrprocessed_q has 0 Outliers in Kerala\n",
      "Beveragestotal_q has 0 Outliers in Kerala\n",
      "ricepds_v has 0 Outliers in Kerala\n",
      "riceos_v has 0 Outliers in Kerala\n",
      "ricetotal_v has 0 Outliers in Kerala\n",
      "chira_v has 0 Outliers in Kerala\n",
      "khoi_v has 0 Outliers in Kerala\n",
      "muri_v has 0 Outliers in Kerala\n",
      "ricepro_v has 0 Outliers in Kerala\n",
      "riceGT_v has 0 Outliers in Kerala\n",
      "Wheatpds_v has 0 Outliers in Kerala\n",
      "wheatos_v has 0 Outliers in Kerala\n",
      "wheattotal_v has 0 Outliers in Kerala\n",
      "maida_v has 0 Outliers in Kerala\n",
      "suji_v has 0 Outliers in Kerala\n",
      "sewai_v has 0 Outliers in Kerala\n",
      "bread_v has 0 Outliers in Kerala\n",
      "wheatp_v has 0 Outliers in Kerala\n",
      "wheatGT_v has 0 Outliers in Kerala\n",
      "jowarp_v has 0 Outliers in Kerala\n",
      "bajrap_v has 0 Outliers in Kerala\n",
      "maizep_v has 0 Outliers in Kerala\n",
      "barleyp_v has 0 Outliers in Kerala\n",
      "milletp_v has 0 Outliers in Kerala\n",
      "ragip_v has 0 Outliers in Kerala\n",
      "cerealot_v has 0 Outliers in Kerala\n",
      "cerealtot_v has 0 Outliers in Kerala\n",
      "cerealsub_v has 0 Outliers in Kerala\n",
      "cerealstt_v has 0 Outliers in Kerala\n",
      "arhar_v has 0 Outliers in Kerala\n",
      "gramdal_v has 0 Outliers in Kerala\n",
      "gramwholep_v has 0 Outliers in Kerala\n",
      "gramGT_v has 0 Outliers in Kerala\n",
      "moong_v has 0 Outliers in Kerala\n",
      "masur_v has 0 Outliers in Kerala\n",
      "urd_v has 0 Outliers in Kerala\n",
      "peasdal_v has 0 Outliers in Kerala\n",
      "khesari_v has 0 Outliers in Kerala\n",
      "otpulse_v has 0 Outliers in Kerala\n",
      "gramp_v has 0 Outliers in Kerala\n",
      "besan_v has 0 Outliers in Kerala\n",
      "pulsep_v has 0 Outliers in Kerala\n",
      "pulsestot_v has 0 Outliers in Kerala\n",
      "pulsestt_v has 0 Outliers in Kerala\n",
      "soyabean_v has 0 Outliers in Kerala\n",
      "milk_v has 0 Outliers in Kerala\n",
      "babyfood_v has 0 Outliers in Kerala\n",
      "milkcond_v has 0 Outliers in Kerala\n",
      "curd_v has 0 Outliers in Kerala\n",
      "ghee_v has 0 Outliers in Kerala\n",
      "butter_v has 0 Outliers in Kerala\n",
      "icecream_v has 0 Outliers in Kerala\n",
      "otmilkp_v has 0 Outliers in Kerala\n",
      "Milktotal_v has 0 Outliers in Kerala\n",
      "milkprott_v has 0 Outliers in Kerala\n",
      "vanas_v has 0 Outliers in Kerala\n",
      "musoil_v has 0 Outliers in Kerala\n",
      "gnoil_v has 0 Outliers in Kerala\n",
      "cocooil_v has 0 Outliers in Kerala\n",
      "edioilothr_v has 0 Outliers in Kerala\n",
      "edibletotal_v has 0 Outliers in Kerala\n",
      "ediblest_v has 0 Outliers in Kerala\n",
      "eggsno_v has 0 Outliers in Kerala\n",
      "fishprawn_v has 0 Outliers in Kerala\n",
      "goatmeat_v has 0 Outliers in Kerala\n",
      "beef_v has 0 Outliers in Kerala\n",
      "pork_v has 0 Outliers in Kerala\n",
      "chicken_v has 0 Outliers in Kerala\n",
      "othrbirds_v has 0 Outliers in Kerala\n",
      "nonvegtotal_v has 0 Outliers in Kerala\n",
      "emftt_v has 0 Outliers in Kerala\n",
      "potato_v has 0 Outliers in Kerala\n",
      "onion_v has 0 Outliers in Kerala\n",
      "tamato_v has 0 Outliers in Kerala\n",
      "brinjal_v has 0 Outliers in Kerala\n",
      "radish_v has 0 Outliers in Kerala\n",
      "carrot_v has 0 Outliers in Kerala\n",
      "palak_v has 0 Outliers in Kerala\n",
      "chillig_v has 0 Outliers in Kerala\n",
      "bhindi_v has 0 Outliers in Kerala\n",
      "parwal_v has 0 Outliers in Kerala\n",
      "cauli_v has 0 Outliers in Kerala\n",
      "cabbage_v has 0 Outliers in Kerala\n",
      "pumpkin_v has 0 Outliers in Kerala\n",
      "peas_v has 0 Outliers in Kerala\n",
      "fbeans_v has 0 Outliers in Kerala\n",
      "lemonno_v has 0 Outliers in Kerala\n",
      "otveg_v has 0 Outliers in Kerala\n",
      "vegtt_v has 0 Outliers in Kerala\n",
      "bananano_v has 0 Outliers in Kerala\n",
      "jackfruit_v has 0 Outliers in Kerala\n",
      "watermel_v has 0 Outliers in Kerala\n",
      "pineaplno_v has 0 Outliers in Kerala\n",
      "cocono_v has 0 Outliers in Kerala\n",
      "cocogno_v has 0 Outliers in Kerala\n",
      "guava_v has 0 Outliers in Kerala\n",
      "sighara_v has 0 Outliers in Kerala\n",
      "orangeno_v has 0 Outliers in Kerala\n",
      "papayar_v has 0 Outliers in Kerala\n",
      "mango_v has 0 Outliers in Kerala\n",
      "kharbooz_v has 0 Outliers in Kerala\n",
      "pears_v has 0 Outliers in Kerala\n",
      "berries_v has 0 Outliers in Kerala\n",
      "leechi_v has 0 Outliers in Kerala\n",
      "apple_v has 0 Outliers in Kerala\n",
      "grapes_v has 0 Outliers in Kerala\n",
      "otfruits_v has 0 Outliers in Kerala\n",
      "fruitstt_v has 0 Outliers in Kerala\n",
      "cocodf_v has 0 Outliers in Kerala\n",
      "gnutdf_v has 0 Outliers in Kerala\n",
      "datesdf_v has 0 Outliers in Kerala\n",
      "cashewdf_v has 0 Outliers in Kerala\n",
      "walnutdf_v has 0 Outliers in Kerala\n",
      "otnutsdf_v has 0 Outliers in Kerala\n",
      "kishmish_v has 0 Outliers in Kerala\n",
      "otherdf_v has 0 Outliers in Kerala\n",
      "dryfruitstotal_v has 0 Outliers in Kerala\n",
      "dftt_v has 0 Outliers in Kerala\n",
      "sugarpds_v has 0 Outliers in Kerala\n",
      "sugaros_v has 0 Outliers in Kerala\n",
      "sugarst_v has 0 Outliers in Kerala\n",
      "gur_v has 0 Outliers in Kerala\n",
      "misri_v has 0 Outliers in Kerala\n",
      "honey_v has 0 Outliers in Kerala\n",
      "sugartotal_v has 0 Outliers in Kerala\n",
      "sugartt_v has 0 Outliers in Kerala\n",
      "salt_v has 0 Outliers in Kerala\n",
      "ginger_v has 0 Outliers in Kerala\n",
      "garlic_v has 0 Outliers in Kerala\n",
      "jeera_v has 0 Outliers in Kerala\n",
      "dhania_v has 0 Outliers in Kerala\n",
      "turnmeric_v has 0 Outliers in Kerala\n",
      "blackpepper_v has 0 Outliers in Kerala\n",
      "drychilly_v has 0 Outliers in Kerala\n",
      "tamarind_v has 0 Outliers in Kerala\n",
      "currypowder_v has 0 Outliers in Kerala\n",
      "oilseeds_v has 0 Outliers in Kerala\n",
      "spicesothr_v has 0 Outliers in Kerala\n",
      "spicetot_v has 0 Outliers in Kerala\n",
      "spicestotal_v has 0 Outliers in Kerala\n",
      "teacupno_v has 0 Outliers in Kerala\n",
      "tealeaf_v has 0 Outliers in Kerala\n",
      "teatotal_v has 0 Outliers in Kerala\n",
      "cofeeno_v has 0 Outliers in Kerala\n",
      "coffeepwdr_v has 0 Outliers in Kerala\n",
      "cofeetotal_v has 0 Outliers in Kerala\n",
      "ice_v has 0 Outliers in Kerala\n",
      "coldbvrg_v has 0 Outliers in Kerala\n",
      "juice_v has 0 Outliers in Kerala\n",
      "othrbevrg_v has 0 Outliers in Kerala\n",
      "bevergest_v has 0 Outliers in Kerala\n",
      "Biscuits_v has 0 Outliers in Kerala\n",
      "preparedsweet_v has 0 Outliers in Kerala\n",
      "pickle_v has 0 Outliers in Kerala\n",
      "sauce_jam_v has 0 Outliers in Kerala\n",
      "Othrprocessed_v has 0 Outliers in Kerala\n",
      "Beveragestotal_v has 0 Outliers in Kerala\n",
      "foodtotal_v has 0 Outliers in Kerala\n",
      "foodtotal_q has 0 Outliers in Kerala\n",
      "Region has 0 Outliers in Kerala\n",
      "fruits_df_tt_v has 0 Outliers in Kerala\n",
      "fv_tot has 0 Outliers in Kerala\n"
     ]
    }
   ],
   "source": [
    "numeric_columns = kerala_data.select_dtypes(include=[np.number]).columns\n",
    "for col in numeric_columns:\n",
    "    Q1 = kerala_data[col].quantile(0.25)\n",
    "    Q3 = kerala_data[col].quantile(0.75)\n",
    "    IQR = Q3 - Q1\n",
    "    outliers = ((kerala_data[col] < (Q1 - 1.5 * IQR)) | (kerala_data[col] > (Q3 + 1.5 * IQR)))\n",
    "    print(f\"{col} has {outliers.sum()} Outliers in Kerala\")\n",
    "    kerala_data = kerala_data[~outliers]"
   ]
  },
  {
   "cell_type": "code",
   "execution_count": 46,
   "id": "3aac222f",
   "metadata": {},
   "outputs": [],
   "source": [
    "kl_new = kerala_data[['foodtotal_q', 'MPCE_MRP', 'MPCE_URP', 'Age', 'Possess_ration_card', 'Education', 'Meals_At_Home', 'No_of_Meals_per_day']]"
   ]
  },
  {
   "cell_type": "code",
   "execution_count": 47,
   "id": "ec06e131",
   "metadata": {},
   "outputs": [
    {
     "data": {
      "text/plain": [
       "foodtotal_q            0\n",
       "MPCE_MRP               0\n",
       "MPCE_URP               0\n",
       "Age                    0\n",
       "Possess_ration_card    0\n",
       "Education              0\n",
       "Meals_At_Home          0\n",
       "No_of_Meals_per_day    0\n",
       "dtype: int64"
      ]
     },
     "execution_count": 47,
     "metadata": {},
     "output_type": "execute_result"
    }
   ],
   "source": [
    "kl_new.isnull().sum().sort_values(ascending = False)"
   ]
  },
  {
   "cell_type": "code",
   "execution_count": 48,
   "id": "6f51d21e",
   "metadata": {},
   "outputs": [
    {
     "data": {
      "text/plain": [
       "foodtotal_q            False\n",
       "MPCE_MRP               False\n",
       "MPCE_URP               False\n",
       "Age                    False\n",
       "Possess_ration_card    False\n",
       "Education              False\n",
       "Meals_At_Home          False\n",
       "No_of_Meals_per_day    False\n",
       "dtype: bool"
      ]
     },
     "execution_count": 48,
     "metadata": {},
     "output_type": "execute_result"
    }
   ],
   "source": [
    "kl_new.isnull().any()"
   ]
  },
  {
   "cell_type": "code",
   "execution_count": 49,
   "id": "8d9ce1d2",
   "metadata": {},
   "outputs": [],
   "source": [
    "import statsmodels.api as sm"
   ]
  },
  {
   "cell_type": "code",
   "execution_count": 50,
   "id": "6ec652e8",
   "metadata": {},
   "outputs": [],
   "source": [
    "y = kl_new['foodtotal_q']\n",
    "x = kl_new[['MPCE_MRP', 'MPCE_URP', 'Age', 'Possess_ration_card', 'Education', 'Meals_At_Home', 'No_of_Meals_per_day']]\n"
   ]
  },
  {
   "cell_type": "code",
   "execution_count": 51,
   "id": "31134f8c",
   "metadata": {},
   "outputs": [],
   "source": [
    "x = sm.add_constant(x)"
   ]
  },
  {
   "cell_type": "code",
   "execution_count": 52,
   "id": "79129830",
   "metadata": {},
   "outputs": [],
   "source": [
    "model = sm.OLS(y, x).fit()"
   ]
  },
  {
   "cell_type": "code",
   "execution_count": 53,
   "id": "7fb1b99b",
   "metadata": {},
   "outputs": [
    {
     "name": "stdout",
     "output_type": "stream",
     "text": [
      "                            OLS Regression Results                            \n",
      "==============================================================================\n",
      "Dep. Variable:            foodtotal_q   R-squared:                       1.000\n",
      "Model:                            OLS   Adj. R-squared:                    nan\n",
      "Method:                 Least Squares   F-statistic:                       nan\n",
      "Date:                Sun, 23 Jun 2024   Prob (F-statistic):                nan\n",
      "Time:                        18:31:10   Log-Likelihood:                 92.768\n",
      "No. Observations:                   3   AIC:                            -179.5\n",
      "Df Residuals:                       0   BIC:                            -182.2\n",
      "Df Model:                           2                                         \n",
      "Covariance Type:            nonrobust                                         \n",
      "=======================================================================================\n",
      "                          coef    std err          t      P>|t|      [0.025      0.975]\n",
      "---------------------------------------------------------------------------------------\n",
      "MPCE_MRP                0.0006        inf          0        nan         nan         nan\n",
      "MPCE_URP                0.0066        inf          0        nan         nan         nan\n",
      "Age                     0.0520        inf          0        nan         nan         nan\n",
      "Possess_ration_card     0.0005        inf          0        nan         nan         nan\n",
      "Education               0.0051        inf          0        nan         nan         nan\n",
      "Meals_At_Home           0.0470        inf          0        nan         nan         nan\n",
      "No_of_Meals_per_day     0.0016        inf          0        nan         nan         nan\n",
      "==============================================================================\n",
      "Omnibus:                          nan   Durbin-Watson:                   0.065\n",
      "Prob(Omnibus):                    nan   Jarque-Bera (JB):                0.281\n",
      "Skew:                           0.000   Prob(JB):                        0.869\n",
      "Kurtosis:                       1.500   Cond. No.                         88.5\n",
      "==============================================================================\n",
      "\n",
      "Notes:\n",
      "[1] Standard Errors assume that the covariance matrix of the errors is correctly specified.\n",
      "[2] The input rank is higher than the number of observations.\n"
     ]
    },
    {
     "name": "stderr",
     "output_type": "stream",
     "text": [
      "C:\\Users\\Ferah Shan\\anaconda3\\Lib\\site-packages\\statsmodels\\stats\\stattools.py:74: ValueWarning: omni_normtest is not valid with less than 8 observations; 3 samples were given.\n",
      "  warn(\"omni_normtest is not valid with less than 8 observations; %i \"\n",
      "C:\\Users\\Ferah Shan\\anaconda3\\Lib\\site-packages\\statsmodels\\regression\\linear_model.py:1794: RuntimeWarning: divide by zero encountered in divide\n",
      "  return 1 - (np.divide(self.nobs - self.k_constant, self.df_resid)\n",
      "C:\\Users\\Ferah Shan\\anaconda3\\Lib\\site-packages\\statsmodels\\regression\\linear_model.py:1794: RuntimeWarning: invalid value encountered in scalar multiply\n",
      "  return 1 - (np.divide(self.nobs - self.k_constant, self.df_resid)\n",
      "C:\\Users\\Ferah Shan\\anaconda3\\Lib\\site-packages\\statsmodels\\regression\\linear_model.py:1716: RuntimeWarning: divide by zero encountered in scalar divide\n",
      "  return np.dot(wresid, wresid) / self.df_resid\n"
     ]
    }
   ],
   "source": [
    "print(model.summary())"
   ]
  },
  {
   "cell_type": "markdown",
   "id": "2ae07602",
   "metadata": {},
   "source": [
    "# Regression Diagnostics"
   ]
  },
  {
   "cell_type": "markdown",
   "id": "2b9d976d",
   "metadata": {},
   "source": [
    "1. Linearity"
   ]
  },
  {
   "cell_type": "code",
   "execution_count": 54,
   "id": "cdf7db2b",
   "metadata": {},
   "outputs": [
    {
     "data": {
      "image/png": "[encoded data removed]",
      "text/plain": [
       "<Figure size 640x480 with 1 Axes>"
      ]
     },
     "metadata": {},
     "output_type": "display_data"
    }
   ],
   "source": [
    "sns.scatterplot(x=model.fittedvalues, y=model.resid)\n",
    "plt.xlabel('Fitted Values')\n",
    "plt.ylabel('Residuals')\n",
    "plt.title('Linearity Check')\n",
    "plt.show()"
   ]
  },
  {
   "cell_type": "markdown",
   "id": "397e2aa7",
   "metadata": {},
   "source": [
    "2. Homoscedasticity"
   ]
  },
  {
   "cell_type": "code",
   "execution_count": 55,
   "id": "8a3cf4ca",
   "metadata": {},
   "outputs": [
    {
     "data": {
      "image/png": "[encoded data removed]",
      "text/plain": [
       "<Figure size 640x480 with 1 Axes>"
      ]
     },
     "metadata": {},
     "output_type": "display_data"
    }
   ],
   "source": [
    "sns.scatterplot(x=model.fittedvalues, y=model.resid**2)\n",
    "plt.xlabel('Fitted Values')\n",
    "plt.ylabel('Squared Residuals')\n",
    "plt.title('Homoscedasticity Check')\n",
    "plt.show()"
   ]
  },
  {
   "cell_type": "markdown",
   "id": "60669262",
   "metadata": {},
   "source": [
    " 3. Normality of Residuals"
   ]
  },
  {
   "cell_type": "code",
   "execution_count": 56,
   "id": "b34f57f2",
   "metadata": {},
   "outputs": [
    {
     "name": "stderr",
     "output_type": "stream",
     "text": [
      "C:\\Users\\Ferah Shan\\AppData\\Local\\Temp\\ipykernel_28396\\1671985890.py:1: UserWarning: \n",
      "\n",
      "`distplot` is a deprecated function and will be removed in seaborn v0.14.0.\n",
      "\n",
      "Please adapt your code to use either `displot` (a figure-level function with\n",
      "similar flexibility) or `histplot` (an axes-level function for histograms).\n",
      "\n",
      "For a guide to updating your code to use the new functions, please see\n",
      "https://gist.github.com/mwaskom/de44147ed2974457ad6372750bbe5751\n",
      "\n",
      "  sns.distplot(model.resid, kde=False)\n"
     ]
    },
    {
     "data": {
      "image/png": "[encoded data removed]",
      "text/plain": [
       "<Figure size 640x480 with 1 Axes>"
      ]
     },
     "metadata": {},
     "output_type": "display_data"
    }
   ],
   "source": [
    "sns.distplot(model.resid, kde=False)\n",
    "plt.title('Normality of Residuals')\n",
    "plt.show()"
   ]
  },
  {
   "cell_type": "markdown",
   "id": "6159294d",
   "metadata": {},
   "source": [
    "4. Multicollinearity"
   ]
  },
  {
   "cell_type": "code",
   "execution_count": 57,
   "id": "ea1f436d",
   "metadata": {},
   "outputs": [
    {
     "name": "stdout",
     "output_type": "stream",
     "text": [
      "   VIF             features\n",
      "0  inf             MPCE_MRP\n",
      "1  inf             MPCE_URP\n",
      "2  inf                  Age\n",
      "3  0.0  Possess_ration_card\n",
      "4  inf            Education\n",
      "5  0.0        Meals_At_Home\n",
      "6  0.0  No_of_Meals_per_day\n"
     ]
    },
    {
     "name": "stderr",
     "output_type": "stream",
     "text": [
      "C:\\Users\\Ferah Shan\\anaconda3\\Lib\\site-packages\\statsmodels\\stats\\outliers_influence.py:198: RuntimeWarning: divide by zero encountered in scalar divide\n",
      "  vif = 1. / (1. - r_squared_i)\n",
      "C:\\Users\\Ferah Shan\\anaconda3\\Lib\\site-packages\\statsmodels\\regression\\linear_model.py:1781: RuntimeWarning: divide by zero encountered in scalar divide\n",
      "  return 1 - self.ssr/self.centered_tss\n"
     ]
    }
   ],
   "source": [
    "from statsmodels.stats.outliers_influence import variance_inflation_factor\n",
    "vif = pd.DataFrame()\n",
    "vif['VIF'] = [variance_inflation_factor(x.values, i) for i in range(x.shape[1])]\n",
    "vif['features'] = x.columns\n",
    "print(vif)"
   ]
  },
  {
   "cell_type": "markdown",
   "id": "d17b10e5",
   "metadata": {},
   "source": [
    "5. Autocorrelation"
   ]
  },
  {
   "cell_type": "code",
   "execution_count": 58,
   "id": "3da0dfea",
   "metadata": {},
   "outputs": [
    {
     "name": "stdout",
     "output_type": "stream",
     "text": [
      "Durbin-Watson statistic: 0.06493506493506493\n"
     ]
    }
   ],
   "source": [
    "from statsmodels.stats.stattools import durbin_watson\n",
    "dw_stat = durbin_watson(model.resid)\n",
    "print(f'Durbin-Watson statistic: {dw_stat}')"
   ]
  },
  {
   "cell_type": "code",
   "execution_count": null,
   "id": "641898ae",
   "metadata": {},
   "outputs": [],
   "source": []
  }
 ],
 "metadata": {
  "kernelspec": {
   "display_name": "Python 3 (ipykernel)",
   "language": "python",
   "name": "python3"
  },
  "language_info": {
   "codemirror_mode": {
    "name": "ipython",
    "version": 3
   },
   "file_extension": ".py",
   "mimetype": "text/x-python",
   "name": "python",
   "nbconvert_exporter": "python",
   "pygments_lexer": "ipython3",
   "version": "3.11.5"
  }
 },
 "nbformat": 4,
 "nbformat_minor": 5
}
